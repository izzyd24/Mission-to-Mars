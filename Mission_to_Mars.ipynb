{
 "cells": [
  {
   "cell_type": "code",
   "execution_count": 1,
   "id": "c252dee9",
   "metadata": {},
   "outputs": [],
   "source": [
    "# Import Splinter and BeautifulSoup\n",
    "from splinter import Browser\n",
    "from bs4 import BeautifulSoup as soup\n",
    "from webdriver_manager.chrome import ChromeDriverManager"
   ]
  },
  {
   "cell_type": "code",
   "execution_count": 2,
   "id": "87d24a3f",
   "metadata": {},
   "outputs": [
    {
     "name": "stdout",
     "output_type": "stream",
     "text": [
      "\n"
     ]
    },
    {
     "name": "stderr",
     "output_type": "stream",
     "text": [
      "[WDM] - ====== WebDriver manager ======\n",
      "[WDM] - Current google-chrome version is 102.0.5005\n",
      "[WDM] - Get LATEST chromedriver version for 102.0.5005 google-chrome\n",
      "[WDM] - Driver [C:\\Users\\dia78039\\.wdm\\drivers\\chromedriver\\win32\\102.0.5005.61\\chromedriver.exe] found in cache\n"
     ]
    }
   ],
   "source": [
    "executable_path = {'executable_path': ChromeDriverManager().install()}\n",
    "browser = Browser('chrome', **executable_path, headless=False)"
   ]
  },
  {
   "cell_type": "code",
   "execution_count": 3,
   "id": "7130241b",
   "metadata": {},
   "outputs": [
    {
     "data": {
      "text/plain": [
       "True"
      ]
     },
     "execution_count": 3,
     "metadata": {},
     "output_type": "execute_result"
    }
   ],
   "source": [
    "# Visit the mars nasa news site\n",
    "url = 'https://redplanetscience.com'\n",
    "browser.visit(url)\n",
    "# Optional delay for loading the page\n",
    "# this helps us search for elements for a div tag and attribute list text\n",
    "# tells browswer to wait before searching for componenets \n",
    "# delays help if webpage is image heavy\n",
    "browser.is_element_present_by_css('div.list_text', wait_time=1)"
   ]
  },
  {
   "cell_type": "code",
   "execution_count": 4,
   "id": "f20c4d3b",
   "metadata": {},
   "outputs": [],
   "source": [
    "# set up the html parser\n",
    "html = browser.html\n",
    "news_soup = soup(html, 'html.parser')\n",
    "# slide elem is the parent element, to look for the div tag\n",
    "# we will use this as reference to filter search results\n",
    "# div.list text pinpoints <div/> tag on list text class\n",
    "slide_elem = news_soup.select_one('div.list_text')\n",
    "\n",
    "# select1_one helps first matching element return be <li/>"
   ]
  },
  {
   "cell_type": "code",
   "execution_count": 6,
   "id": "e5968195",
   "metadata": {},
   "outputs": [
    {
     "data": {
      "text/plain": [
       "\"NASA's New Mars Rover Is Ready for Space Lasers\""
      ]
     },
     "execution_count": 6,
     "metadata": {},
     "output_type": "execute_result"
    }
   ],
   "source": [
    "# want to collect recent news article with summary para\n",
    "# use the html attribute of: \n",
    "# class = \"content_title\"\n",
    "# adjusted with .get_text to show only text\n",
    "news_title = slide_elem.find('div', class_='content_title').get_text()\n",
    "news_title"
   ]
  },
  {
   "cell_type": "code",
   "execution_count": 9,
   "id": "273b831d",
   "metadata": {},
   "outputs": [
    {
     "data": {
      "text/plain": [
       "'Perseverance is one of a few Mars spacecraft carrying laser retroreflectors. The devices could provide new science and safer Mars landings in the future.'"
      ]
     },
     "execution_count": 9,
     "metadata": {},
     "output_type": "execute_result"
    }
   ],
   "source": [
    "# now take the previous code and add the paragraph summary\n",
    "news_para = slide_elem.find('div', class_='article_teaser_body').get_text()\n",
    "news_para"
   ]
  },
  {
   "cell_type": "markdown",
   "id": "a54d0547",
   "metadata": {},
   "source": [
    "### Featured Images"
   ]
  },
  {
   "cell_type": "code",
   "execution_count": 10,
   "id": "e49772d2",
   "metadata": {},
   "outputs": [],
   "source": [
    "# always want the full size version of the featured images\n",
    "# Visit URL\n",
    "url = 'https://spaceimages-mars.com'\n",
    "browser.visit(url)"
   ]
  },
  {
   "cell_type": "code",
   "execution_count": 11,
   "id": "d8942044",
   "metadata": {},
   "outputs": [],
   "source": [
    "# found that the <button> element has 2 classes: \n",
    "# first class = btn \n",
    "# second class = btn outline light\n",
    "# string for full image to be clicked on by user\n",
    "full_image_elem = browser.find_by_tag('button')[1]\n",
    "full_image_elem.click()\n",
    "\n",
    "# why did we index chain at end of our code?"
   ]
  },
  {
   "cell_type": "code",
   "execution_count": 12,
   "id": "2ae07125",
   "metadata": {},
   "outputs": [],
   "source": [
    "# with new image expanded, now we want to:\n",
    "# parse the full size image url \n",
    "html = browser.html\n",
    "img_soup = soup(html, 'html.parser')"
   ]
  },
  {
   "cell_type": "code",
   "execution_count": 15,
   "id": "ba678e30",
   "metadata": {},
   "outputs": [
    {
     "data": {
      "text/plain": [
       "'image/featured/mars3.jpg'"
      ]
     },
     "execution_count": 15,
     "metadata": {},
     "output_type": "execute_result"
    }
   ],
   "source": [
    "# find relative image url \n",
    "# value of the src will be different each time the page is updated \n",
    "# we cannot only record the current value\n",
    "\n",
    "# .get src will pull the link to our recent image\n",
    "\n",
    "# look inside <img> element, in class fancybox, get the link in these tags\n",
    "img_url_relative = img_soup.find('img', class_='fancybox-image').get('src')\n",
    "img_url_relative"
   ]
  },
  {
   "cell_type": "code",
   "execution_count": 17,
   "id": "036eea77",
   "metadata": {},
   "outputs": [
    {
     "data": {
      "text/plain": [
       "'https://spaceimages-mars.com/image/featured/mars3.jpg'"
      ]
     },
     "execution_count": 17,
     "metadata": {},
     "output_type": "execute_result"
    }
   ],
   "source": [
    "# add our link from previous cell\n",
    "img_url = f'https://spaceimages-mars.com/{img_url_relative}'\n",
    "img_url"
   ]
  },
  {
   "cell_type": "code",
   "execution_count": null,
   "id": "732f7637",
   "metadata": {},
   "outputs": [],
   "source": [
    "# 10.3.5 collect information about mars planet profile\n",
    "# all our html code is in the <table> element for this site\n",
    "# we can use .read_html() to scrape the whole table\n",
    "df = pd.read_html('https://galaxyfacts-mars.com')[0]\n",
    "df.columns=['description', 'Mars', 'Earth']\n",
    "df.set_index('description', inplace=True)\n",
    "df"
   ]
  }
 ],
 "metadata": {
  "kernelspec": {
   "display_name": "PythonData",
   "language": "python",
   "name": "pythondata"
  },
  "language_info": {
   "codemirror_mode": {
    "name": "ipython",
    "version": 3
   },
   "file_extension": ".py",
   "mimetype": "text/x-python",
   "name": "python",
   "nbconvert_exporter": "python",
   "pygments_lexer": "ipython3",
   "version": "3.7.11"
  }
 },
 "nbformat": 4,
 "nbformat_minor": 5
}
